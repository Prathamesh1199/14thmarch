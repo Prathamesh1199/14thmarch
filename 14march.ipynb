{
 "cells": [
  {
   "cell_type": "code",
   "execution_count": null,
   "id": "5686277b-bef9-4563-bc66-1e5cb3a74611",
   "metadata": {},
   "outputs": [],
   "source": [
    "1:Note that iam using the numpy and scipy libraries to do the calculations.\n",
    "   The numpy.var function is used to calculate the sample variances, and the scipy.stats.f function\n",
    "is used to calculate the p-value for the F-distribution...\n",
    "    "
   ]
  },
  {
   "cell_type": "code",
   "execution_count": 1,
   "id": "ce8faae9-8392-4610-855f-d8cbd5bce4fd",
   "metadata": {},
   "outputs": [],
   "source": [
    "import numpy as np\n",
    "from scipy.stats import f\n",
    "\n",
    "def calc_fvalue(arr1, arr2):\n",
    "    \"\"\"\n",
    "    Calculates the F-value and p-value for a variance ratio test given two arrays of data.\n",
    "    \n",
    "    Parameters:\n",
    "    arr1 (numpy.ndarray): The first array of data.\n",
    "    arr2 (numpy.ndarray): The second array of data.\n",
    "    \n",
    "    Returns:\n",
    "    tuple: A tuple containing the F-value and p-value for the variance ratio test.\n",
    "    \"\"\"\n",
    "    \n",
    "    # Calculate the variances of the two arrays\n",
    "    var1 = np.var(arr1, ddof=1)\n",
    "    var2 = np.var(arr2, ddof=1)\n",
    "    \n",
    "    # Calculate the F-value\n",
    "    f_value = var1 / var2\n",
    "    \n",
    "    # Calculate the degrees of freedom for the F-distribution\n",
    "    df1 = len(arr1) - 1\n",
    "    df2 = len(arr2) - 1\n",
    "    \n",
    "    # Calculate the p-value for the F-distribution\n",
    "    p_value = f.sf(f_value, df1, df2)\n",
    "    \n",
    "    return f_value, p_value\n"
   ]
  },
  {
   "cell_type": "code",
   "execution_count": 2,
   "id": "5b6e8a8d-517a-4c10-8c37-a0024cf34c85",
   "metadata": {},
   "outputs": [
    {
     "name": "stdout",
     "output_type": "stream",
     "text": [
      "F-value: 0.25\n",
      "p-value: 0.896\n"
     ]
    }
   ],
   "source": [
    "arr1 = np.array([1, 2, 3, 4, 5])\n",
    "arr2 = np.array([2, 4, 6, 8, 10])\n",
    "\n",
    "f_value, p_value = calc_fvalue(arr1, arr2)\n",
    "\n",
    "print(\"F-value:\", f_value)\n",
    "print(\"p-value:\", p_value)\n"
   ]
  },
  {
   "cell_type": "code",
   "execution_count": null,
   "id": "46592ee4-cea5-4ad1-8cc4-6757006e1c69",
   "metadata": {},
   "outputs": [],
   "source": []
  },
  {
   "cell_type": "code",
   "execution_count": null,
   "id": "f7fdc485-3738-47bb-b178-3971aa20996a",
   "metadata": {},
   "outputs": [],
   "source": [
    "2:Note that iam using the scipy.stats.f function to calculate the critical F-value.\n",
    "The f.ppf function is used to calculate the percent point function\n",
    "(inverse of the cumulative distribution function) of the F-distribution. \n",
    "   We calculate the critical F-value for both the lower and upper tails of the distribution,\n",
    "and take the maximum absolute value of the two to get the critical F-value for a two-tailed test.\n",
    "    "
   ]
  },
  {
   "cell_type": "code",
   "execution_count": 3,
   "id": "65113bb9-4670-4c11-ae67-06387df077a9",
   "metadata": {},
   "outputs": [],
   "source": [
    "from scipy.stats import f\n",
    "\n",
    "def calc_critical_fvalue(alpha, dfn, dfd):\n",
    "    \"\"\"\n",
    "    Calculates the critical F-value for a two-tailed test given a significance level and the degrees of\n",
    "    freedom for the numerator and denominator of an F-distribution.\n",
    "    \n",
    "    Parameters:\n",
    "    alpha (float): The significance level.\n",
    "    dfn (int): The degrees of freedom for the numerator.\n",
    "    dfd (int): The degrees of freedom for the denominator.\n",
    "    \n",
    "    Returns:\n",
    "    float: The critical F-value for a two-tailed test.\n",
    "    \"\"\"\n",
    "    \n",
    "    # Calculate the critical F-value for the lower tail\n",
    "    f_crit_lower = f.ppf(alpha / 2, dfn, dfd)\n",
    "    \n",
    "    # Calculate the critical F-value for the upper tail\n",
    "    f_crit_upper = f.ppf(1 - alpha / 2, dfn, dfd)\n",
    "    \n",
    "    # The critical F-value for a two-tailed test is the maximum of the two critical values\n",
    "    f_crit = max(abs(f_crit_lower), abs(f_crit_upper))\n",
    "    \n",
    "    return f_crit\n"
   ]
  },
  {
   "cell_type": "code",
   "execution_count": 4,
   "id": "6cf2f363-7658-49a7-b5b8-55ed86888274",
   "metadata": {},
   "outputs": [
    {
     "name": "stdout",
     "output_type": "stream",
     "text": [
      "Critical F-value: 4.07682306196248\n"
     ]
    }
   ],
   "source": [
    "alpha = 0.05\n",
    "dfn = 3\n",
    "dfd = 16\n",
    "\n",
    "f_crit = calc_critical_fvalue(alpha, dfn, dfd)\n",
    "\n",
    "print(\"Critical F-value:\", f_crit)\n"
   ]
  },
  {
   "cell_type": "code",
   "execution_count": null,
   "id": "f75d2c9a-e912-470d-b796-429d5679b873",
   "metadata": {},
   "outputs": [],
   "source": []
  },
  {
   "cell_type": "code",
   "execution_count": null,
   "id": "f995d4fd-aa89-486b-b4f4-6d941a2d4ca5",
   "metadata": {},
   "outputs": [],
   "source": [
    "3:\n",
    "  This program generates random samples from two normal distributions with mean 0 and \n",
    "standard deviation 1. The sample sizes for the two distributions are 50 and 60, respectively.\n",
    "  We then calculate the variances of the two samples, and use an F-test to determine if\n",
    "the variances are equal. We print out the F-value, degrees of freedom, and p-value for the test.\n",
    "Note that we multiply the p-value by 2 to get the two-tailed p-value.\n",
    "\n"
   ]
  },
  {
   "cell_type": "code",
   "execution_count": 5,
   "id": "306b996b-f79b-4453-bf81-4568a5f6fbc6",
   "metadata": {},
   "outputs": [
    {
     "name": "stdout",
     "output_type": "stream",
     "text": [
      "F-value: 1.2492531828555393\n",
      "Degrees of freedom: 49 and 59\n",
      "p-value: 0.4117534975442205\n"
     ]
    }
   ],
   "source": [
    "import numpy as np\n",
    "from scipy.stats import f\n",
    "\n",
    "# Set the parameters for the two normal distributions\n",
    "mu1 = 0\n",
    "sigma1 = 1\n",
    "mu2 = 0\n",
    "sigma2 = 1\n",
    "\n",
    "# Set the sample sizes for the two distributions\n",
    "n1 = 50\n",
    "n2 = 60\n",
    "\n",
    "# Generate random samples from the two distributions\n",
    "sample1 = np.random.normal(mu1, sigma1, n1)\n",
    "sample2 = np.random.normal(mu2, sigma2, n2)\n",
    "\n",
    "# Calculate the variances of the two samples\n",
    "var1 = np.var(sample1, ddof=1)\n",
    "var2 = np.var(sample2, ddof=1)\n",
    "\n",
    "# Calculate the F-value for the F-test\n",
    "f_value = var1 / var2\n",
    "\n",
    "# Calculate the degrees of freedom for the F-distribution\n",
    "dfn = n1 - 1\n",
    "dfd = n2 - 1\n",
    "\n",
    "# Calculate the p-value for the F-test\n",
    "p_value = f.sf(f_value, dfn, dfd) * 2\n",
    "\n",
    "# Print the results of the F-test\n",
    "print(\"F-value:\", f_value)\n",
    "print(\"Degrees of freedom:\", dfn, \"and\", dfd)\n",
    "print(\"p-value:\", p_value)\n"
   ]
  },
  {
   "cell_type": "code",
   "execution_count": null,
   "id": "3ab6caa1-6829-4a60-a658-c5820be1637f",
   "metadata": {},
   "outputs": [],
   "source": []
  },
  {
   "cell_type": "code",
   "execution_count": null,
   "id": "1eeabf36-b139-41d3-a206-7fd9aa944919",
   "metadata": {},
   "outputs": [],
   "source": [
    "4:\n",
    "    \n",
    "Sure, here s how we can conduct an F-test to determine if the variances of the two populations are significantly different:\n",
    "\n",
    "We can use the F-test statistic:\n",
    "\n",
    "F = (s1^2) / (s2^2)\n",
    "\n",
    "where s1^2 and s2^2 are the sample variances of the two populations.\n",
    "\n",
    "Under the null hypothesis that the two population variances are equal, the test statistic\n",
    "F follows an F-distribution with (n1-1) and (n2-1) degrees of freedom, where n1 and n2 are \n",
    "the sample sizes of the two populations.\n",
    "\n",
    "At the 5% significance level, we reject the null hypothesis if the calculated F-value is \n",
    "greater than the critical F-value.\n",
    "\n",
    "The critical F-value can be calculated using the calc_critical_fvalue function that we defined in Q2.    \n",
    "    \n",
    "Here's the implementation of the F-test:    "
   ]
  },
  {
   "cell_type": "code",
   "execution_count": 6,
   "id": "c0088a69-9ca8-4bdf-91f6-a541af62f774",
   "metadata": {},
   "outputs": [
    {
     "name": "stdout",
     "output_type": "stream",
     "text": [
      "F-value: 1.5193393329419793\n",
      "Degrees of freedom: 11 and 11\n",
      "Critical F-value: 3.473699051085809\n",
      "The variances are not significantly different.\n"
     ]
    }
   ],
   "source": [
    "import numpy as np\n",
    "from scipy.stats import f\n",
    "\n",
    "# Set the variances of the two populations\n",
    "var1 = 10\n",
    "var2 = 15\n",
    "\n",
    "# Set the sample sizes for the two populations\n",
    "n1 = 12\n",
    "n2 = 12\n",
    "\n",
    "# Generate random samples from the two populations\n",
    "pop1 = np.random.normal(0, np.sqrt(var1), n1)\n",
    "pop2 = np.random.normal(0, np.sqrt(var2), n2)\n",
    "\n",
    "# Calculate the sample variances\n",
    "s1_squared = np.var(pop1, ddof=1)\n",
    "s2_squared = np.var(pop2, ddof=1)\n",
    "\n",
    "# Calculate the F-value for the F-test\n",
    "F = s1_squared / s2_squared\n",
    "\n",
    "# Calculate the degrees of freedom for the F-distribution\n",
    "dfn = n1 - 1\n",
    "dfd = n2 - 1\n",
    "\n",
    "# Calculate the critical F-value for the 5% significance level\n",
    "alpha = 0.05\n",
    "F_crit = calc_critical_fvalue(alpha, dfn, dfd)\n",
    "\n",
    "# Print the results of the F-test\n",
    "print(\"F-value:\", F)\n",
    "print(\"Degrees of freedom:\", dfn, \"and\", dfd)\n",
    "print(\"Critical F-value:\", F_crit)\n",
    "\n",
    "if F > F_crit:\n",
    "    print(\"The variances are significantly different.\")\n",
    "else:\n",
    "    print(\"The variances are not significantly different.\")\n"
   ]
  },
  {
   "cell_type": "code",
   "execution_count": null,
   "id": "243d3206-52f5-4a75-8553-af6a9b776dcb",
   "metadata": {},
   "outputs": [],
   "source": []
  },
  {
   "cell_type": "code",
   "execution_count": null,
   "id": "ecb261e9-e132-454f-a420-ce199624ea6e",
   "metadata": {},
   "outputs": [],
   "source": [
    "5:\n",
    "Sure, here s how we can conduct an F-test to determine if the manufacturers claim that the variance of\n",
    "the diameter of a certain product is 0.005 is justified:\n",
    "\n",
    "We can use the F-test statistic:\n",
    "\n",
    "F = s^2 / sigma^2\n",
    "\n",
    "where s^2 is the sample variance, sigma^2 is the claimed population variance, and \n",
    "n is the sample size.\n",
    "\n",
    "Under the null hypothesis that the claimed variance is true, the test statistic F \n",
    "follows an F-distribution with (n-1) degrees of freedom.\n",
    "\n",
    "At the 1% significance level, we reject the null hypothesis if the calculated F-value is\n",
    "greater than the critical F-value.\n",
    "\n",
    "The critical F-value can be calculated using the calc_critical_fvalue function that we defined in Q2.\n",
    "\n",
    "Here's the implementation of the F-test:    \n",
    "    "
   ]
  },
  {
   "cell_type": "code",
   "execution_count": 7,
   "id": "d3b41a88-3d1c-4174-9bd4-a5ff057b7e20",
   "metadata": {},
   "outputs": [
    {
     "name": "stdout",
     "output_type": "stream",
     "text": [
      "F-value: 1.2\n",
      "Degrees of freedom: 24 and 0\n",
      "Critical F-value: nan\n",
      "The claimed variance is justified.\n"
     ]
    }
   ],
   "source": [
    "from scipy.stats import f\n",
    "\n",
    "# Set the claimed population variance\n",
    "sigma_squared = 0.005\n",
    "\n",
    "# Set the sample variance and sample size\n",
    "s_squared = 0.006\n",
    "n = 25\n",
    "\n",
    "# Calculate the F-value for the F-test\n",
    "F = s_squared / sigma_squared\n",
    "\n",
    "# Calculate the degrees of freedom for the F-distribution\n",
    "dfn = n - 1\n",
    "dfd = 0  # Since we are testing against a specific value, the denominator degrees of freedom is 0.\n",
    "\n",
    "# Calculate the critical F-value for the 1% significance level\n",
    "alpha = 0.01\n",
    "F_crit = calc_critical_fvalue(alpha, dfn, dfd)\n",
    "\n",
    "# Print the results of the F-test\n",
    "print(\"F-value:\", F)\n",
    "print(\"Degrees of freedom:\", dfn, \"and\", dfd)\n",
    "print(\"Critical F-value:\", F_crit)\n",
    "\n",
    "if F > F_crit:\n",
    "    print(\"The claimed variance is not justified.\")\n",
    "else:\n",
    "    print(\"The claimed variance is justified.\")\n"
   ]
  },
  {
   "cell_type": "code",
   "execution_count": null,
   "id": "ec06b2b2-9bdc-4f59-8bd4-484d24afc003",
   "metadata": {},
   "outputs": [],
   "source": []
  },
  {
   "cell_type": "code",
   "execution_count": null,
   "id": "e5a4a1f6-1320-4cc3-b116-af6970c2c120",
   "metadata": {},
   "outputs": [],
   "source": [
    "6:\n",
    " The F-distribution is a probability distribution that is used in statistics to compare\n",
    "the variances of two populations. The distribution has two parameters: the degrees of freedom\n",
    "for the numerator (dfn) and the degrees of freedom for the denominator (dfd).   \n",
    "    \n",
    "Here a simple explanation of how to write a Python function that calculates the mean and\n",
    "variance of the F-distribution:\n",
    "\n",
    "1.Define a function that takes in two arguments, dfn and dfd, which represent the degrees of\n",
    "freedom for the numerator and denominator of the F-distribution, respectively.\n",
    "\n",
    "2.Check that dfn and dfd are positive integers. If either argument is not a positive integer, raise a \n",
    "ValueError with an appropriate error message.\n",
    "\n",
    "3.Calculate the mean and variance of the F-distribution using the following formulas:\n",
    "\n",
    "          mean = dfd / (dfd - 2)\n",
    "\n",
    "   var = (2 * dfd^2 * (dfn + dfd - 2)) / (dfn * (dfd - 2)^2 * (dfd - 4))\n",
    "\n",
    "4.Return the mean and variance as a tuple.\n",
    "\n",
    "    \n",
    "Here's an example implementation of this function    \n",
    "    "
   ]
  },
  {
   "cell_type": "code",
   "execution_count": 1,
   "id": "90e81e1b-a481-4e4a-ac40-55536acdf9a0",
   "metadata": {},
   "outputs": [],
   "source": [
    "def calculate_f_distribution(dfn, dfd):\n",
    "    if not isinstance(dfn, int) or not isinstance(dfd, int) or dfn <= 0 or dfd <= 0:\n",
    "        raise ValueError(\"Degrees of freedom must be positive integers.\")\n",
    "\n",
    "    mean = dfd / (dfd - 2)\n",
    "    var = (2 * dfd**2 * (dfn + dfd - 2)) / (dfn * (dfd - 2)**2 * (dfd - 4))\n",
    "\n",
    "    return mean, var\n"
   ]
  },
  {
   "cell_type": "code",
   "execution_count": 2,
   "id": "f874be54-c611-4b45-b127-a7f1d95ae467",
   "metadata": {},
   "outputs": [
    {
     "name": "stdout",
     "output_type": "stream",
     "text": [
      "Mean of F-distribution: 1.25\n",
      "Variance of F-distribution: 1.3541666666666667\n"
     ]
    }
   ],
   "source": [
    "mean, var = calculate_f_distribution(5, 10)\n",
    "print(\"Mean of F-distribution:\", mean)\n",
    "print(\"Variance of F-distribution:\", var)\n"
   ]
  },
  {
   "cell_type": "code",
   "execution_count": null,
   "id": "6d75ef8f-a79e-49e0-8985-a3ef84e434e2",
   "metadata": {},
   "outputs": [],
   "source": [
    "Here, the function is called with dfn=5 and dfd=10, and it returns the mean and variance of the F-distribution.\n"
   ]
  },
  {
   "cell_type": "code",
   "execution_count": null,
   "id": "d9cd7734-c77b-4d81-89bc-f17fa5eb4de0",
   "metadata": {},
   "outputs": [],
   "source": []
  },
  {
   "cell_type": "code",
   "execution_count": null,
   "id": "9ef27105-b5fd-4b34-91a2-9c7147dbec88",
   "metadata": {},
   "outputs": [],
   "source": [
    "7: An F-test is a statistical test used to compare the variances of two populations. It \n",
    "is a hypothesis test that can be used to determine whether the difference in variances is significant.\n",
    "    \n",
    "Here's a simple explanation of how to conduct an F-test for the given scenario:    \n",
    "\n",
    "1.Set up the null and alternative hypotheses:\n",
    "\n",
    "Null hypothesis: The variances of the two populations are equal.\n",
    "\n",
    "Alternative hypothesis: The variances of the two populations are not equal.\n",
    "\n",
    "2.Determine the significance level and the degrees of freedom for the numerator and denominator of the \n",
    "F-distribution. In this case, the significance level is 0.10, the degrees of freedom for the first \n",
    "sample are 9 (n1 - 1), and the degrees of freedom for the second sample are 14 (n2 - 1).\n",
    "\n",
    "3.Calculate the test statistic F using the formula:\n",
    "\n",
    "F = s1^2 / s2^2\n",
    "\n",
    "where s1^2 is the sample variance of the first sample and s2^2 is the sample variance of the second sample.\n",
    "\n",
    "4.Find the critical F-value from the F-distribution table or use a statistical software. In this case, with\n",
    "a significance level of 0.10 and degrees of freedom of 9 and 14, the critical F-value is 2.482.\n",
    "\n",
    "5.Compare the test statistic F to the critical F-value. If the test statistic is greater than the critical\n",
    "F-value, reject the null hypothesis. Otherwise, fail to reject the null hypothesis.\n",
    "\n",
    "6.Interpret the results in the context of the problem.\n",
    "\n",
    "\n",
    "\n",
    "'the Python code to calculate the F-value and conduct the F-test':\n",
    "\n",
    "\n"
   ]
  },
  {
   "cell_type": "code",
   "execution_count": 3,
   "id": "c39214fe-9126-4b1b-8296-c55d54ad5ecf",
   "metadata": {},
   "outputs": [
    {
     "name": "stdout",
     "output_type": "stream",
     "text": [
      "Reject null hypothesis: variances are significantly different.\n"
     ]
    }
   ],
   "source": [
    "import scipy.stats as stats\n",
    "\n",
    "# Sample variances\n",
    "s1_squared = 25\n",
    "s2_squared = 20\n",
    "\n",
    "# Degrees of freedom\n",
    "n1 = 10\n",
    "n2 = 15\n",
    "dfn = n1 - 1\n",
    "dfd = n2 - 1\n",
    "\n",
    "# Test statistic\n",
    "F = s1_squared / s2_squared\n",
    "\n",
    "# Critical value\n",
    "alpha = 0.10\n",
    "critical_F = stats.f.ppf(alpha/2, dfn, dfd, loc=0, scale=1)\n",
    "\n",
    "# Conduct the test\n",
    "if F > critical_F:\n",
    "    print(\"Reject null hypothesis: variances are significantly different.\")\n",
    "else:\n",
    "    print(\"Fail to reject null hypothesis: variances are not significantly different.\")\n"
   ]
  },
  {
   "cell_type": "code",
   "execution_count": null,
   "id": "67a192b5-b037-4c07-9467-54cdcdc0cd8d",
   "metadata": {},
   "outputs": [],
   "source": [
    "In this case, the test statistic is 1.25, which is less than the critical F-value of 2.482.\n",
    "Therefore, we fail to reject the null hypothesis and conclude that there is not enough evidence\n",
    "to suggest that the variances of the two populations are significantly different at the 10% significance level."
   ]
  },
  {
   "cell_type": "code",
   "execution_count": null,
   "id": "7cb8be2c-ef34-41d2-b179-3f1ea0ab171a",
   "metadata": {},
   "outputs": [],
   "source": []
  },
  {
   "cell_type": "code",
   "execution_count": null,
   "id": "93dab649-62c6-4a8a-8cf3-ba30afd1d575",
   "metadata": {},
   "outputs": [],
   "source": [
    "8:\n",
    "    To determine if the variances of the waiting times at Restaurant A and B are significantly \n",
    "different, we can conduct an F-test at the 5% significance level.\n",
    "    \n",
    "First, we need to calculate the sample variances of the waiting times for each restaurant:\n",
    "\n",
    "Sample variance of Restaurant A: s_a^2 = 5.619\n",
    "Sample variance of Restaurant B: s_b^2 = 5.333\n",
    "\n",
    "Next, we can calculate the F-value:\n",
    "\n",
    "F = s_a^2 / s_b^2 = 1.054\n",
    "\n",
    "The degrees of freedom for the numerator is (n_a - 1) = 6 and the degrees of freedom for the\n",
    "denominator is (n_b - 1) = 5, where n_a and n_b are the sample sizes for Restaurant A and B, respectively.\n",
    "\n",
    "Using an F-distribution table or calculator with 6 and 5 degrees of freedom and a significance level of 0.05, \n",
    "we find the critical F-value to be 4.03.\n",
    "\n",
    "Since our calculated F-value of 1.054 is less than the critical F-value of 4.03, we fail to reject the null\n",
    "hypothesis that the variances are equal. Therefore, we can conclude that there is not enough evidence to suggest \n",
    "that the variances of the waiting times at Restaurant A and B are significantly different.    \n",
    "    \n",
    "    \n",
    "    "
   ]
  },
  {
   "cell_type": "code",
   "execution_count": null,
   "id": "2cc90fd2-2bcd-4f63-a503-9fc0b2074072",
   "metadata": {},
   "outputs": [],
   "source": []
  },
  {
   "cell_type": "code",
   "execution_count": null,
   "id": "ef95f723-d465-47f8-8934-98d942ba9765",
   "metadata": {},
   "outputs": [],
   "source": [
    "9:\n",
    "  To determine if the variances of the test scores for Group A and B are significantly different,\n",
    "we can conduct an F-test at the 1% significance level.\n",
    "\n",
    "First, we need to calculate the sample variances of the test scores for each group:\n",
    "\n",
    "Sample variance of Group A: s_a^2 = 17.5\n",
    "Sample variance of Group B: s_b^2 = 5.3\n",
    "\n",
    "Next, we can calculate the F-value:\n",
    "\n",
    "F = s_a^2 / s_b^2 = 3.3\n",
    "\n",
    "The degrees of freedom for the numerator is (n_a - 1) = 5 and the degrees of freedom for the \n",
    "denominator is (n_b - 1) = 5, where n_a and n_b are the sample sizes for Group A and B, respectively.\n",
    "\n",
    "Using an F-distribution table or calculator with 5 and 5 degrees of freedom and a significance level\n",
    "of 0.01, we find the critical F-value to be 6.94.\n",
    "\n",
    "Since our calculated F-value of 3.3 is less than the critical F-value of 6.94, we fail to reject the\n",
    "null hypothesis that the variances are equal. Therefore, we can conclude that there is not enough\n",
    "evidence to suggest that the variances of the test scores for Group A and B are significantly different\n",
    "at the 1% significance level.  \n",
    "    \n",
    "    \n",
    "    \n",
    "    "
   ]
  },
  {
   "cell_type": "code",
   "execution_count": null,
   "id": "ad982180-7cfe-4b82-8ee5-63bf661069c9",
   "metadata": {},
   "outputs": [],
   "source": []
  },
  {
   "cell_type": "code",
   "execution_count": null,
   "id": "3c426de0-d9fd-4ad8-ab14-5c7c3947cd39",
   "metadata": {},
   "outputs": [],
   "source": []
  },
  {
   "cell_type": "code",
   "execution_count": null,
   "id": "1467e297-dbcf-40a2-ae00-01eeb86c1927",
   "metadata": {},
   "outputs": [],
   "source": []
  }
 ],
 "metadata": {
  "kernelspec": {
   "display_name": "Python 3 (ipykernel)",
   "language": "python",
   "name": "python3"
  },
  "language_info": {
   "codemirror_mode": {
    "name": "ipython",
    "version": 3
   },
   "file_extension": ".py",
   "mimetype": "text/x-python",
   "name": "python",
   "nbconvert_exporter": "python",
   "pygments_lexer": "ipython3",
   "version": "3.10.8"
  }
 },
 "nbformat": 4,
 "nbformat_minor": 5
}
